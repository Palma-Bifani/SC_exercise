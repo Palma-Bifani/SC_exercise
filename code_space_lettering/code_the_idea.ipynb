{
 "cells": [
  {
   "cell_type": "markdown",
   "metadata": {},
   "source": [
    "# The idea: Space Lettering code\n",
    "\n",
    "The idea of this code is that you write as input and it return the word or sentence in stars lettering. \n",
    "\n",
    "It will be done by having libraries with the letters (only one at the moment) and will return a suplot array in order that the sentence can be desplayed by phrases of no longer than 15? characters and as many lines as needed.\n",
    "\n",
    "Everything must be done as a class (Variables and outputs).\n",
    "\n",
    "This is just ment as a nice example for Science and Commit workshop and as a resume for anyone else interesed on our material publised on Science_and_Commit respository linked on the README.md file. "
   ]
  },
  {
   "cell_type": "markdown",
   "metadata": {},
   "source": [
    "## Input of packages"
   ]
  },
  {
   "cell_type": "code",
   "execution_count": 1,
   "metadata": {},
   "outputs": [],
   "source": [
    "import glob, os\n",
    "import numpy as np\n",
    "import matplotlib.pyplot as plt\n",
    "import pandas as pd\n",
    "import astropy.units as u\n",
    "import astropy.constants as const"
   ]
  },
  {
   "cell_type": "markdown",
   "metadata": {},
   "source": [
    "## Explanation of the workshop, the available material, and how to follow the different parts."
   ]
  },
  {
   "cell_type": "code",
   "execution_count": null,
   "metadata": {},
   "outputs": [],
   "source": [
    "### Resume"
   ]
  },
  {
   "cell_type": "code",
   "execution_count": null,
   "metadata": {},
   "outputs": [],
   "source": [
    "### Video 1"
   ]
  },
  {
   "cell_type": "code",
   "execution_count": null,
   "metadata": {},
   "outputs": [],
   "source": [
    "### Video 2"
   ]
  },
  {
   "cell_type": "code",
   "execution_count": null,
   "metadata": {},
   "outputs": [],
   "source": [
    "### Video 3"
   ]
  },
  {
   "cell_type": "code",
   "execution_count": null,
   "metadata": {},
   "outputs": [],
   "source": [
    "### Video 4"
   ]
  },
  {
   "cell_type": "code",
   "execution_count": null,
   "metadata": {},
   "outputs": [],
   "source": [
    "### Video 5"
   ]
  },
  {
   "cell_type": "code",
   "execution_count": null,
   "metadata": {},
   "outputs": [],
   "source": [
    "### Video 6"
   ]
  },
  {
   "cell_type": "code",
   "execution_count": null,
   "metadata": {},
   "outputs": [],
   "source": []
  },
  {
   "cell_type": "markdown",
   "metadata": {},
   "source": [
    "## Explanation of the activity of the workshop. "
   ]
  },
  {
   "cell_type": "code",
   "execution_count": null,
   "metadata": {},
   "outputs": [],
   "source": [
    "### Practical activity"
   ]
  },
  {
   "cell_type": "code",
   "execution_count": null,
   "metadata": {},
   "outputs": [],
   "source": []
  },
  {
   "cell_type": "markdown",
   "metadata": {},
   "source": [
    "## The activity itself"
   ]
  },
  {
   "cell_type": "code",
   "execution_count": null,
   "metadata": {},
   "outputs": [],
   "source": [
    "#In a class add abc… and then input letters and through a dictionary connect with the filename to file. \n",
    "\n",
    "#Then subplot by world to print and then next on new line. \n",
    "\n",
    "\n",
    "# How to diferentiate mayusculas from minusculas? \n",
    "# Como reconocer largo de frases y separaciones \\ ? (Para printear después)\n",
    "# Agregar . ,  ! ? : y numeros ???\n",
    "# agregar warning para simbolos no agregados\n",
    "# agregar ignorar simbolo no existente en printeo y conteo de caracteres."
   ]
  },
  {
   "cell_type": "code",
   "execution_count": 6,
   "metadata": {},
   "outputs": [
    {
     "data": {
      "text/plain": [
       "['../abcde/a.png',\n",
       " '../abcde/aa.png',\n",
       " '../abcde/b.png',\n",
       " '../abcde/bb.png',\n",
       " '../abcde/c.png',\n",
       " '../abcde/cc.png',\n",
       " '../abcde/d.png',\n",
       " '../abcde/dd.png',\n",
       " '../abcde/e.png',\n",
       " '../abcde/ee.png',\n",
       " '../abcde/f.png',\n",
       " '../abcde/ff.png',\n",
       " '../abcde/g.png',\n",
       " '../abcde/gg.png',\n",
       " '../abcde/h.png',\n",
       " '../abcde/hh.png',\n",
       " '../abcde/i.png',\n",
       " '../abcde/ii.png',\n",
       " '../abcde/j.png',\n",
       " '../abcde/jj.png',\n",
       " '../abcde/k.png',\n",
       " '../abcde/kk.png',\n",
       " '../abcde/l.png',\n",
       " '../abcde/ll.png',\n",
       " '../abcde/m.png',\n",
       " '../abcde/mm.png',\n",
       " '../abcde/n.png',\n",
       " '../abcde/nn.png',\n",
       " '../abcde/o.png',\n",
       " '../abcde/oo.png',\n",
       " '../abcde/p.png',\n",
       " '../abcde/pp.png',\n",
       " '../abcde/q.png',\n",
       " '../abcde/qq.png',\n",
       " '../abcde/r.png',\n",
       " '../abcde/rr.png',\n",
       " '../abcde/s.png',\n",
       " '../abcde/ss.png',\n",
       " '../abcde/t.png',\n",
       " '../abcde/tt.png',\n",
       " '../abcde/u.png',\n",
       " '../abcde/uu.png',\n",
       " '../abcde/v.png',\n",
       " '../abcde/vv.png',\n",
       " '../abcde/w.png',\n",
       " '../abcde/ww.png',\n",
       " '../abcde/x.png',\n",
       " '../abcde/xx.png',\n",
       " '../abcde/y.png',\n",
       " '../abcde/yy.png',\n",
       " '../abcde/z.png',\n",
       " '../abcde/zz.png']"
      ]
     },
     "execution_count": 6,
     "metadata": {},
     "output_type": "execute_result"
    }
   ],
   "source": [
    "letters = sorted(glob.glob('../abcde/*.png'))\n",
    "letters"
   ]
  },
  {
   "cell_type": "code",
   "execution_count": null,
   "metadata": {},
   "outputs": [],
   "source": []
  }
 ],
 "metadata": {
  "kernelspec": {
   "display_name": "Python 3",
   "language": "python",
   "name": "python3"
  },
  "language_info": {
   "codemirror_mode": {
    "name": "ipython",
    "version": 3
   },
   "file_extension": ".py",
   "mimetype": "text/x-python",
   "name": "python",
   "nbconvert_exporter": "python",
   "pygments_lexer": "ipython3",
   "version": "3.8.5"
  }
 },
 "nbformat": 4,
 "nbformat_minor": 4
}
